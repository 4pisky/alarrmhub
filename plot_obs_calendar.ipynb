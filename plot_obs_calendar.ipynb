{
 "cells": [
  {
   "cell_type": "code",
   "execution_count": null,
   "metadata": {
    "collapsed": true
   },
   "outputs": [],
   "source": [
    "import pandas as pd\n",
    "import driveami\n",
    "import datetime\n",
    "from driveami import keys as amikeys"
   ]
  },
  {
   "cell_type": "code",
   "execution_count": null,
   "metadata": {
    "collapsed": true
   },
   "outputs": [],
   "source": [
    "def ami_utc_to_datetimes(utc_str):\n",
    "    date_format = '%Y-%m-%d %H:%M:%S'\n",
    "    return datetime.datetime.strptime(utc_str, date_format)"
   ]
  },
  {
   "cell_type": "code",
   "execution_count": null,
   "metadata": {
    "collapsed": false
   },
   "outputs": [],
   "source": [
    "with open('./all_ami_rawfiles_metadata.json') as f:\n",
    "    meta, _ = driveami.load_listing(f)\n",
    "with open('./all_ami_rawfiles_by_pointing.json') as f:\n",
    "    groupings, _ = driveami.load_listing(f)"
   ]
  },
  {
   "cell_type": "code",
   "execution_count": null,
   "metadata": {
    "collapsed": false
   },
   "outputs": [],
   "source": [
    "len(meta)"
   ]
  },
  {
   "cell_type": "code",
   "execution_count": null,
   "metadata": {
    "collapsed": false
   },
   "outputs": [],
   "source": [
    "len(groupings)"
   ]
  },
  {
   "cell_type": "code",
   "execution_count": null,
   "metadata": {
    "collapsed": false
   },
   "outputs": [],
   "source": [
    "#Drop rawtext\n",
    "for k in meta.keys():\n",
    "    meta[k].pop(amikeys.raw_obs_text, None)\n",
    "\n",
    "# set groups\n",
    "for group_id, group_dict in groupings.iteritems():\n",
    "    for filename in group_dict[amikeys.files]:\n",
    "        meta[filename][amikeys.group_name]= group_id"
   ]
  },
  {
   "cell_type": "code",
   "execution_count": null,
   "metadata": {
    "collapsed": false,
    "scrolled": false
   },
   "outputs": [],
   "source": [
    "df = pd.DataFrame.from_records(meta).T\n",
    "df = df.drop([amikeys.comment,amikeys.pointing_hms_dms,amikeys.field],1)\n",
    "df.head()"
   ]
  },
  {
   "cell_type": "code",
   "execution_count": null,
   "metadata": {
    "collapsed": false
   },
   "outputs": [],
   "source": [
    "df['utc_start'] = df.time_utc.apply(lambda x: ami_utc_to_datetimes(x[0]))\n",
    "df['utc_end'] = df.time_utc.apply(lambda x: ami_utc_to_datetimes(x[1]))\n",
    "df['mjd_start'] = df.time_mjd.apply(lambda x: x[0])\n",
    "df['mjd_end'] = df.time_mjd.apply(lambda x: x[1])\n",
    "df['ra'] = df.pointing_degrees.apply(lambda x: x[0])\n",
    "df['dec'] = df.pointing_degrees.apply(lambda x: x[1])\n",
    "df = df.drop([amikeys.time_ut, amikeys.time_mjd, amikeys.pointing_degrees], 1)\n"
   ]
  },
  {
   "cell_type": "code",
   "execution_count": null,
   "metadata": {
    "collapsed": false
   },
   "outputs": [],
   "source": [
    "now = datetime.datetime.now()\n",
    "recent_obs = df[(now - df.utc_start) < datetime.timedelta(days=19)]\n",
    "r = recent_obs[recent_obs.group_name.str.startswith('SWIFT')]\n",
    "r"
   ]
  },
  {
   "cell_type": "code",
   "execution_count": null,
   "metadata": {
    "collapsed": false
   },
   "outputs": [],
   "source": [
    "r.T.to_dict()"
   ]
  }
 ],
 "metadata": {
  "kernelspec": {
   "display_name": "Python 2",
   "language": "python",
   "name": "python2"
  },
  "language_info": {
   "codemirror_mode": {
    "name": "ipython",
    "version": 2
   },
   "file_extension": ".py",
   "mimetype": "text/x-python",
   "name": "python",
   "nbconvert_exporter": "python",
   "pygments_lexer": "ipython2",
   "version": "2.7.6"
  }
 },
 "nbformat": 4,
 "nbformat_minor": 0
}
